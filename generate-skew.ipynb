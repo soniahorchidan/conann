{
 "cells": [
  {
   "cell_type": "code",
   "execution_count": 1,
   "id": "db89c8f6",
   "metadata": {},
   "outputs": [
    {
     "name": "stdout",
     "output_type": "stream",
     "text": [
      "Num vectors: 1000000\n",
      "Num queries: 10000\n"
     ]
    }
   ],
   "source": [
    "import numpy as np\n",
    "import struct\n",
    "import random\n",
    "\n",
    "def read_fvecs(filename, tp='<f'):\n",
    "    vectors = []\n",
    "    with open(filename, 'rb') as f:\n",
    "        while True:\n",
    "            dim_bytes = f.read(4)\n",
    "            if not dim_bytes:\n",
    "                break\n",
    "            d = struct.unpack('<I', dim_bytes)[0]\n",
    "            vec_bytes = f.read(d * 4)\n",
    "            vector = struct.unpack(f'{tp[0]}{d}{tp[1]}', vec_bytes)\n",
    "            vectors.append(np.array(vector, dtype=np.float32))\n",
    "    return vectors\n",
    "\n",
    "\n",
    "dataset = read_fvecs(\"./data/sift1m/sift_base.fvecs\")\n",
    "dataset = np.array(dataset)\n",
    "num_queries = 10000 \n",
    "num_vectors = len(dataset)\n",
    "print(\"Num vectors:\", num_vectors)\n",
    "print(\"Num queries:\", num_queries)"
   ]
  },
  {
   "cell_type": "code",
   "execution_count": null,
   "id": "bfe8d5b1-98f2-4b2f-8516-17331d361fc9",
   "metadata": {},
   "outputs": [],
   "source": [
    "import struct\n",
    "\n",
    "def write_fvecs(filename, tensor_data, tp='<f'):\n",
    "    with open(filename, 'wb') as f:\n",
    "        for vector in tensor_data:\n",
    "            d = len(vector)\n",
    "            f.write(struct.pack('<I', d))\n",
    "            for value in vector:\n",
    "                f.write(struct.pack(tp, value.item())) "
   ]
  },
  {
   "cell_type": "code",
   "execution_count": 6,
   "id": "540bdb11-b988-46ff-bf00-f4951fe6804e",
   "metadata": {},
   "outputs": [],
   "source": [
    "def power_law_sample(n, size, alpha):\n",
    "    # Generates indices [0, n) with power-law probability ~ (rank + 1)^-alpha\n",
    "    ranks = np.arange(1, n + 1)\n",
    "    probs = ranks.astype(float) ** (-alpha)\n",
    "    probs /= probs.sum()\n",
    "    return np.random.choice(n, size=size, p=probs)\n",
    "\n",
    "\n",
    "u_indices = np.random.choice(num_vectors, size=int(num_queries / 2), replace=False)\n",
    "u_vectors = dataset[u_indices]\n",
    "\n",
    "alpha = 3\n",
    "pl_indices = power_law_sample(num_vectors, int(num_queries / 2), alpha)\n",
    "pl_vectors = dataset[pl_indices]\n",
    "\n",
    "query_vectors = np.concatenate([u_vectors, pl_vectors], axis=0)\n",
    "\n",
    "write_fvecs(f'sifmt1-skew-{alpha}-queries.fvecs', query_vectors)"
   ]
  },
  {
   "cell_type": "code",
   "execution_count": 7,
   "id": "3e85aa4b-e0ae-4dda-bd46-f5a61798fa03",
   "metadata": {},
   "outputs": [
    {
     "name": "stdout",
     "output_type": "stream",
     "text": [
      "[ 13434  15773 667989 393526 644406 410462 306753 141077 516242  58051\n",
      " 392534  62636 397013 998023 486114  58064 514730 486731 338616 859408\n",
      " 555848 946992 632838 832009 541317 594692 671766 823870 141329 668074\n",
      " 187625 958207 486669 711332  49373 195832 274648 656977 221442 311834\n",
      " 922634 307940 632339 100773 195054 273870  13375 961244 486445 772332\n",
      "  60180 990004 475882 704721 101052 968342 335811 668047  60314 481039\n",
      " 553789 378676  76502 670157 558437 905083  15860 135242 720726 991208\n",
      " 485003 158757 397183 536492 900136 773150 670494 416898 947095 951650\n",
      " 632590 281344 103248 505118 859443 552736 990267 990109 922805 448402\n",
      " 859624  13578 505476 822346 522283 442176 346684 958143 886123 880216]\n"
     ]
    }
   ],
   "source": [
    "import faiss\n",
    "\n",
    "dimension = query_vectors.shape[1]\n",
    "index = faiss.IndexFlatL2(dimension)\n",
    "index.add(dataset)\n",
    "\n",
    "K = 100\n",
    "distances, indices = index.search(query_vectors, K)\n",
    "print(indices[0])"
   ]
  },
  {
   "cell_type": "code",
   "execution_count": 8,
   "id": "5760c78e-90ce-41f8-9b21-98f1fa852cd2",
   "metadata": {},
   "outputs": [],
   "source": [
    "write_fvecs(f'sift1m-skew-{alpha}-distances-100.fvecs', distances)\n",
    "write_fvecs(f'sift1m-skew-{alpha}-indices-100.fvecs', indices, \"<i\")"
   ]
  }
 ],
 "metadata": {
  "kernelspec": {
   "display_name": "Python 3 (ipykernel)",
   "language": "python",
   "name": "python3"
  },
  "language_info": {
   "codemirror_mode": {
    "name": "ipython",
    "version": 3
   },
   "file_extension": ".py",
   "mimetype": "text/x-python",
   "name": "python",
   "nbconvert_exporter": "python",
   "pygments_lexer": "ipython3",
   "version": "3.13.1"
  }
 },
 "nbformat": 4,
 "nbformat_minor": 5
}
