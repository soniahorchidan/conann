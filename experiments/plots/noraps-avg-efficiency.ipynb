{
 "cells": [
  {
   "cell_type": "code",
   "execution_count": 1,
   "id": "84121bc0-ca4d-4da0-9a8c-9d7a725e8a15",
   "metadata": {},
   "outputs": [
    {
     "name": "stdout",
     "output_type": "stream",
     "text": [
      "Average: 123.56731517509728\n"
     ]
    }
   ],
   "source": [
    "with open(\"./noraps-conann-logs/NoRAPS-ConANN-efficiency-bert-128-100-0.1-0.5-0.2.log\", \"r\") as f:\n",
    "    numbers = [int(line.strip()) for line in f if int(line.strip()) >= 0]\n",
    "\n",
    "average = sum(numbers) / len(numbers) if numbers else 0\n",
    "print(\"Average:\", average)"
   ]
  },
  {
   "cell_type": "code",
   "execution_count": 2,
   "id": "c5a428c5-7c82-4d1c-89c1-e45a6dd59530",
   "metadata": {},
   "outputs": [
    {
     "name": "stdout",
     "output_type": "stream",
     "text": [
      "Average: 1008.031798245614\n"
     ]
    }
   ],
   "source": [
    "with open(\"./noraps-conann-logs/NoRAPS-ConANN-efficiency-deep10M-1024-100-0.1-0.5-0.1.log\", \"r\") as f:\n",
    "    numbers = [int(line.strip()) for line in f if int(line.strip()) >= 0]\n",
    "\n",
    "average = sum(numbers) / len(numbers) if numbers else 0\n",
    "print(\"Average:\", average)"
   ]
  },
  {
   "cell_type": "code",
   "execution_count": 3,
   "id": "f11d966f-50e8-4f82-ac90-e3953f61c049",
   "metadata": {},
   "outputs": [
    {
     "name": "stdout",
     "output_type": "stream",
     "text": [
      "Average: 991.5092838196286\n"
     ]
    }
   ],
   "source": [
    "with open(\"./noraps-conann-logs/NoRAPS-ConANN-efficiency-gist-1024-100-0.1-0.5-0.1.log\", \"r\") as f:\n",
    "    numbers = [int(line.strip()) for line in f if int(line.strip()) >= 0]\n",
    "\n",
    "average = sum(numbers) / len(numbers) if numbers else 0\n",
    "print(\"Average:\", average)"
   ]
  }
 ],
 "metadata": {
  "kernelspec": {
   "display_name": "Python 3 (ipykernel)",
   "language": "python",
   "name": "python3"
  },
  "language_info": {
   "codemirror_mode": {
    "name": "ipython",
    "version": 3
   },
   "file_extension": ".py",
   "mimetype": "text/x-python",
   "name": "python",
   "nbconvert_exporter": "python",
   "pygments_lexer": "ipython3",
   "version": "3.13.1"
  }
 },
 "nbformat": 4,
 "nbformat_minor": 5
}
